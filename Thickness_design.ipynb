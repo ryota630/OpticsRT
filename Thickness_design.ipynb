{
 "cells": [
  {
   "cell_type": "code",
   "execution_count": 95,
   "id": "541b770d-97e9-48bc-949d-868674f4dc40",
   "metadata": {},
   "outputs": [],
   "source": [
    "import numpy as np\n",
    "\n",
    "class Material:    \n",
    "    def __init__(self):\n",
    "        '''\n",
    "        2024.2.20 (RTakaku)\n",
    "        Now I follow Tensei's thesis and just focus on the strength as the window.\n",
    "        Here I refer his document in terms of mechanical strength. \n",
    "        Later I will add formalism for thickness calculation.\n",
    "        When we consider the thickness, we will care about mechanical strength, thermal radiation effect and optical effect.\n",
    "        I would like to summarize them as one simple python calculator.\n",
    "        \n",
    "        After that, I will conbine classes into RTlib.py RT's A/I\n",
    "        \n",
    "        Memo: the unit of strength is MPa.\n",
    "        '''\n",
    "        self.Quartz = {'ref': 'https://eikoh-kk.co.jp/tecdata/silicaglass_data.html', \n",
    "                       'flexural_strength': 105, \n",
    "                       'tensile_strength' : 48}\n",
    "        \n",
    "        self.HD30 = {'ref': 'https://www.zotefoams.com/wp-content/uploads/2016/02/HD30-December-2017.pdf',\n",
    "                     'tensile_strength': 0.967}\n",
    "        \n",
    "        self.HDPE ={'ref': 'https://www.amazon.co.jp/%E3%83%97%E3%83%A9%E3%82%B9%E3%83%81%E3%83%83%E3%82%AF%E3%83%BB%E3%83%87%E3%83%BC%E3%82%BF%E3%83%96%E3%83%83%E3%82%AF-%E6%97%AD%E5%8C%96%E6%88%90%E3%82%A2%E3%83%9F%E3%83%80%E3%82%B9/dp/4769341288',\n",
    "                   'tensile_strength': 18.6}\n",
    "        \n",
    "        self.UHMWPE = {'ref': 'https://www.amazon.co.jp/%E3%83%97%E3%83%A9%E3%82%B9%E3%83%81%E3%83%83%E3%82%AF%E3%83%BB%E3%83%87%E3%83%BC%E3%82%BF%E3%83%96%E3%83%83%E3%82%AF-%E6%97%AD%E5%8C%96%E6%88%90%E3%82%A2%E3%83%9F%E3%83%80%E3%82%B9/dp/4769341288',\n",
    "                      'tensile_strength': 21.4}\n",
    "        \n",
    "class Strength(Material):\n",
    "    def __init__(self):\n",
    "        super().__init__()\n",
    "        \n",
    "    def Thickness(self,r,sigma,P,safety_factor):\n",
    "        '''\n",
    "        r: radius [mm]\n",
    "        sigma: maximum strength [MPa]\n",
    "        safety_factor: savety factor\n",
    "        P: atmosphere pressure [MPa]\n",
    "        \n",
    "        return thickness [mm]\n",
    "        '''\n",
    "        d = r/2*np.sqrt(3*P/(sigma/10))\n",
    "        return d\n",
    "        \n",
    "\n",
    "\n"
   ]
  },
  {
   "cell_type": "code",
   "execution_count": 96,
   "id": "3b36dbe6-d278-478d-9537-4ba67f7ed3ce",
   "metadata": {},
   "outputs": [
    {
     "name": "stdout",
     "output_type": "stream",
     "text": [
      "Material list:  dict_keys(['Quartz', 'HD30', 'HDPE', 'UHMWPE'])\n",
      "Thickness = 57.6 mm\n"
     ]
    }
   ],
   "source": [
    "# ========================\n",
    "# ~~~~~~~~~\n",
    "# Example        \n",
    "# ~~~~~~~~~\n",
    "# ========================\n",
    "# Call library\n",
    "lib = Strength()\n",
    "\n",
    "# Material dictionary (ongoing)\n",
    "Material_dict = lib.__dict__\n",
    "print('Material list: ',Material_dict.keys())\n",
    "\n",
    "# =========input parameters===============\n",
    "# radius [mm]\n",
    "r = 65 \n",
    "# Strength [MPa]\n",
    "sigma = Material_dict['HD30']['tensile_strength'] \n",
    "# atmosphere pressure, [MPa]\n",
    "P = 0.101325 \n",
    "# Safety factor\n",
    "safety_factor = 10 \n",
    "# =========================================\n",
    "\n",
    "# ======= Calculate thickness ============= \n",
    "thickness = lib.Thickness(r,sigma,P,safety_factor)\n",
    "print('Thickness = %.1f mm'%thickness)\n",
    "# ========================================="
   ]
  },
  {
   "cell_type": "code",
   "execution_count": null,
   "id": "cefee239-5650-4c72-b134-cac3909708d5",
   "metadata": {},
   "outputs": [],
   "source": []
  },
  {
   "cell_type": "code",
   "execution_count": 97,
   "id": "47e2a131-3323-4609-93d1-176d5e3dc5a0",
   "metadata": {},
   "outputs": [
    {
     "name": "stdout",
     "output_type": "stream",
     "text": [
      "Thickness HD30 = 48.8 mm\n",
      "Thickness Quartz = 6.9 mm\n",
      "Thickness HDPE = 11.1 mm\n",
      "Thickness UHMWPE = 10.4 mm\n"
     ]
    }
   ],
   "source": [
    "# ===============================\n",
    "# Cross check with Tensei\n",
    "# ===============================\n",
    "\n",
    "def Cross_check(par,Name):\n",
    "    thickness = lib.Thickness(*par)\n",
    "    print('Thickness {0} = {1:.1f} mm'.format(Name, thickness))\n",
    "    \n",
    "\n",
    "reference = {'PPA30': 48.8, 'Quartz': 6.92, 'HDPE': 11.1, 'UHMWPE': 10.4}\n",
    "r = 55    \n",
    "Name = ['HD30','Quartz','HDPE','UHMWPE']\n",
    "par = np.array([r, Material_dict['HD30']['tensile_strength'],P,safety_factor])\n",
    "\n",
    "for namei in Name:\n",
    "    par = np.array([r, Material_dict[namei]['tensile_strength'],P,safety_factor])\n",
    "    Cross_check(par,namei)\n"
   ]
  },
  {
   "cell_type": "code",
   "execution_count": 89,
   "id": "7b44f571-3b0d-4717-bf5a-66e66494ad95",
   "metadata": {},
   "outputs": [],
   "source": []
  },
  {
   "cell_type": "code",
   "execution_count": null,
   "id": "5627b36d-e897-4182-895e-35a80f30fa38",
   "metadata": {},
   "outputs": [],
   "source": []
  }
 ],
 "metadata": {
  "kernelspec": {
   "display_name": "Python 3 (ipykernel)",
   "language": "python",
   "name": "python3"
  },
  "language_info": {
   "codemirror_mode": {
    "name": "ipython",
    "version": 3
   },
   "file_extension": ".py",
   "mimetype": "text/x-python",
   "name": "python",
   "nbconvert_exporter": "python",
   "pygments_lexer": "ipython3",
   "version": "3.10.9"
  }
 },
 "nbformat": 4,
 "nbformat_minor": 5
}
