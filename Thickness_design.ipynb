{
 "cells": [
  {
   "cell_type": "code",
   "execution_count": 1,
   "id": "541b770d-97e9-48bc-949d-868674f4dc40",
   "metadata": {},
   "outputs": [],
   "source": [
    "import numpy as np\n",
    "import RTlib\n"
   ]
  },
  {
   "cell_type": "code",
   "execution_count": 3,
   "id": "3b36dbe6-d278-478d-9537-4ba67f7ed3ce",
   "metadata": {},
   "outputs": [
    {
     "name": "stdout",
     "output_type": "stream",
     "text": [
      "Material list:  dict_keys(['Quartz', 'HD30', 'HDPE', 'UHMWPE'])\n",
      "Thickness = 12.1 mm\n"
     ]
    }
   ],
   "source": [
    "# ========================\n",
    "# ~~~~~~~~~\n",
    "# Example        \n",
    "# ~~~~~~~~~\n",
    "# ========================\n",
    "# Call library\n",
    "lib = RTlib.Strength()\n",
    "\n",
    "# Material dictionary (ongoing)\n",
    "Material_dict = lib.__dict__\n",
    "print('Material list: ',Material_dict.keys())\n",
    "\n",
    "# =========input parameters===============\n",
    "# radius [mm]\n",
    "r = 50/2 \n",
    "# Strength [MPa]\n",
    "sigma = Material_dict['HD30']['tensile_strength'] \n",
    "# atmosphere pressure, [MPa]\n",
    "P = 0.101325 \n",
    "# Safety factor\n",
    "safety_factor = 3\n",
    "# =========================================\n",
    "\n",
    "# ======= Calculate thickness ============= \n",
    "thickness = lib.Thickness(r,sigma,P,safety_factor)\n",
    "print('Thickness = %.1f mm'%thickness)\n",
    "# ========================================="
   ]
  },
  {
   "cell_type": "code",
   "execution_count": null,
   "id": "cefee239-5650-4c72-b134-cac3909708d5",
   "metadata": {},
   "outputs": [],
   "source": []
  },
  {
   "cell_type": "code",
   "execution_count": null,
   "id": "56536657-a390-4b0c-bf95-0bb82b2a6b66",
   "metadata": {},
   "outputs": [],
   "source": []
  },
  {
   "cell_type": "code",
   "execution_count": null,
   "id": "3b1dc5e8-0372-4d3a-8ce7-ce129dfd320f",
   "metadata": {},
   "outputs": [],
   "source": []
  },
  {
   "cell_type": "code",
   "execution_count": null,
   "id": "2ef93a21-6ab5-457a-ba60-e892417056c2",
   "metadata": {},
   "outputs": [],
   "source": []
  },
  {
   "cell_type": "code",
   "execution_count": null,
   "id": "7300ff89-801a-4291-986f-fda8df552184",
   "metadata": {},
   "outputs": [],
   "source": []
  },
  {
   "cell_type": "code",
   "execution_count": null,
   "id": "0a082e96-6380-441f-b334-66271355aaba",
   "metadata": {},
   "outputs": [],
   "source": []
  },
  {
   "cell_type": "code",
   "execution_count": null,
   "id": "a13622ba-f71a-4488-9e12-ca5a1b255657",
   "metadata": {},
   "outputs": [],
   "source": []
  },
  {
   "cell_type": "code",
   "execution_count": null,
   "id": "1c6a0e0a-9bab-4bd7-9f52-93eed1c56980",
   "metadata": {},
   "outputs": [],
   "source": []
  },
  {
   "cell_type": "code",
   "execution_count": 97,
   "id": "47e2a131-3323-4609-93d1-176d5e3dc5a0",
   "metadata": {},
   "outputs": [
    {
     "name": "stdout",
     "output_type": "stream",
     "text": [
      "Thickness HD30 = 48.8 mm\n",
      "Thickness Quartz = 6.9 mm\n",
      "Thickness HDPE = 11.1 mm\n",
      "Thickness UHMWPE = 10.4 mm\n"
     ]
    }
   ],
   "source": [
    "# ===============================\n",
    "# Cross check with Tensei\n",
    "# ===============================\n",
    "\n",
    "def Cross_check(par,Name):\n",
    "    thickness = lib.Thickness(*par)\n",
    "    print('Thickness {0} = {1:.1f} mm'.format(Name, thickness))\n",
    "    \n",
    "\n",
    "reference = {'PPA30': 48.8, 'Quartz': 6.92, 'HDPE': 11.1, 'UHMWPE': 10.4}\n",
    "r = 55    \n",
    "Name = ['HD30','Quartz','HDPE','UHMWPE']\n",
    "par = np.array([r, Material_dict['HD30']['tensile_strength'],P,safety_factor])\n",
    "\n",
    "for namei in Name:\n",
    "    par = np.array([r, Material_dict[namei]['tensile_strength'],P,safety_factor])\n",
    "    Cross_check(par,namei)\n"
   ]
  },
  {
   "cell_type": "code",
   "execution_count": 89,
   "id": "7b44f571-3b0d-4717-bf5a-66e66494ad95",
   "metadata": {},
   "outputs": [],
   "source": []
  },
  {
   "cell_type": "code",
   "execution_count": null,
   "id": "5627b36d-e897-4182-895e-35a80f30fa38",
   "metadata": {},
   "outputs": [],
   "source": []
  }
 ],
 "metadata": {
  "kernelspec": {
   "display_name": "Python 3 (ipykernel)",
   "language": "python",
   "name": "python3"
  },
  "language_info": {
   "codemirror_mode": {
    "name": "ipython",
    "version": 3
   },
   "file_extension": ".py",
   "mimetype": "text/x-python",
   "name": "python",
   "nbconvert_exporter": "python",
   "pygments_lexer": "ipython3",
   "version": "3.10.9"
  }
 },
 "nbformat": 4,
 "nbformat_minor": 5
}
